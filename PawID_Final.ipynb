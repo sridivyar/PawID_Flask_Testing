{
 "cells": [
  {
   "cell_type": "code",
   "execution_count": null,
   "metadata": {},
   "outputs": [],
   "source": [
    "pip install tensorflow"
   ]
  },
  {
   "cell_type": "code",
   "execution_count": null,
   "metadata": {},
   "outputs": [],
   "source": [
    "import tensorflow as tf\n",
    "from tensorflow.keras.applications import MobileNetV2\n",
    "import numpy as np"
   ]
  },
  {
   "cell_type": "code",
   "execution_count": null,
   "metadata": {},
   "outputs": [],
   "source": [
    "pip install timm"
   ]
  },
  {
   "cell_type": "code",
   "execution_count": null,
   "metadata": {},
   "outputs": [],
   "source": [
    "pip install requests"
   ]
  },
  {
   "cell_type": "code",
   "execution_count": null,
   "metadata": {},
   "outputs": [],
   "source": [
    "from PIL import Image\n",
    "import matplotlib.pyplot as plt\n",
    "import torch\n",
    "from torchvision import transforms\n"
   ]
  },
  {
   "cell_type": "code",
   "execution_count": null,
   "metadata": {},
   "outputs": [],
   "source": [
    "from torch import nn\n",
    "from torch.utils.data import DataLoader\n",
    "from torchvision import datasets, transforms\n",
    "import timm\n"
   ]
  },
  {
   "cell_type": "code",
   "execution_count": null,
   "metadata": {},
   "outputs": [],
   "source": [
    "pip install flask"
   ]
  },
  {
   "cell_type": "code",
   "execution_count": null,
   "metadata": {},
   "outputs": [],
   "source": [
    "import os\n",
    "import json\n",
    "from flask import Flask, request, jsonify, render_template"
   ]
  },
  {
   "cell_type": "code",
   "execution_count": null,
   "metadata": {},
   "outputs": [],
   "source": [
    "model1 = tf.keras.models.load_model(\"D:\\Mobilenet.h5\")"
   ]
  },
  {
   "cell_type": "code",
   "execution_count": null,
   "metadata": {},
   "outputs": [],
   "source": [
    "# Load the dataset\n",
    "dataset_path = './Images'\n",
    "dataset = datasets.ImageFolder(dataset_path, transform=transforms)"
   ]
  },
  {
   "cell_type": "code",
   "execution_count": null,
   "metadata": {},
   "outputs": [],
   "source": [
    "def predict_dog(image_path):\n",
    "    img = tf.keras.preprocessing.image.load_img(image_path, target_size=(32, 32))\n",
    "    img_array = tf.keras.preprocessing.image.img_to_array(img) / 255.0\n",
    "    img_array = tf.expand_dims(img_array, 0)\n",
    "\n",
    "    prediction = model1.predict(img_array)\n",
    "    print(prediction)\n",
    "    return \"Dog\" if prediction[0][0] > 0.12 else \"Not Dog\"\n",
    "\n",
    "image_path = \"D:\\img_4.jpg\"\n",
    "result = predict_dog(image_path)"
   ]
  },
  {
   "cell_type": "code",
   "execution_count": null,
   "metadata": {},
   "outputs": [],
   "source": [
    "model_path = \"D:/efficientnet_v01_trained.pth\"\n",
    "\n",
    "model = torch.load(model_path)\n",
    "model.eval()  \n",
    "\n",
    "transform = transforms.Compose([\n",
    "    transforms.Resize(256),\n",
    "    transforms.CenterCrop(224),\n",
    "    transforms.ToTensor(),\n",
    "    transforms.Normalize(mean=[0.485, 0.456, 0.406], std=[0.229, 0.224, 0.225]),\n",
    "])\n",
    "\n",
    "def predict(input_image: Image):\n",
    "    input_tensor = transform(input_image)\n",
    "    input_batch = input_tensor.unsqueeze(0)\n",
    "\n",
    "    if torch.cuda.is_available():\n",
    "        input_batch = input_batch.to('cuda')\n",
    "        model.to('cuda')\n",
    "\n",
    "    with torch.no_grad():\n",
    "        output = model(input_batch)\n",
    "        \n",
    "\n",
    "    _, predicted_idx = torch.max(output, 1)\n",
    "    class_to_idx = dataset.class_to_idx\n",
    "    idx_to_class = {idx: class_ for class_, idx in class_to_idx.items()}\n",
    "    return idx_to_class[predicted_idx.item()] "
   ]
  },
  {
   "cell_type": "code",
   "execution_count": null,
   "metadata": {},
   "outputs": [],
   "source": [
    "\n",
    "if result != \"Dog\":\n",
    "    raise ValueError(\"The prediction is not 'Dog'. Aborting further tests.\")\n",
    "else:\n",
    "    app = Flask(__name__)\n",
    "\n",
    "    model = torch.load(model_path, map_location='cpu')\n",
    "    model.eval()  \n",
    "\n",
    "    transform = transforms.Compose([\n",
    "        transforms.Resize(256),\n",
    "        transforms.CenterCrop(224),\n",
    "        transforms.ToTensor(),\n",
    "        transforms.Normalize(mean=[0.485, 0.456, 0.406], std=[0.229, 0.224, 0.225]),\n",
    "    ])\n",
    "\n",
    "    dataset_path = os.path.join(\".\", \"Images\")\n",
    "    dataset = datasets.ImageFolder(dataset_path, transform=transform)\n",
    "\n",
    "    class_to_idx = dataset.class_to_idx\n",
    "    idx_to_class = {idx: class_ for class_, idx in class_to_idx.items()}\n",
    "\n",
    "    @app.route('/', methods=['GET', 'POST'])\n",
    "    def home():\n",
    "        if request.method == 'POST':\n",
    "            file = request.files.get('image')\n",
    "            if file is None:\n",
    "                return jsonify({'error': 'no file'}), 400\n",
    "\n",
    "            image = Image.open(file.stream)\n",
    "            image = transform(image)\n",
    "            image = image.unsqueeze(0)\n",
    "\n",
    "            with torch.no_grad():\n",
    "                output = model(image)\n",
    "\n",
    "            _, predicted_idx = torch.max(output, 1)\n",
    "            predicted_class = idx_to_class[predicted_idx.item()]\n",
    "            class_idx, class_name = predicted_class.split(\"-\")\n",
    "            class_name = class_name.replace(\"_\", \" \")\n",
    "\n",
    "            return jsonify({'predicted_class': class_name})\n",
    "        else:\n",
    "            return render_template('index.html')\n",
    "\n",
    "    if __name__ == '__main__':\n",
    "        app.run(port=8080)\n"
   ]
  }
 ],
 "metadata": {
  "kernelspec": {
   "display_name": "Python 3",
   "language": "python",
   "name": "python3"
  },
  "language_info": {
   "codemirror_mode": {
    "name": "ipython",
    "version": 3
   },
   "file_extension": ".py",
   "mimetype": "text/x-python",
   "name": "python",
   "nbconvert_exporter": "python",
   "pygments_lexer": "ipython3",
   "version": "3.9.17"
  },
  "orig_nbformat": 4
 },
 "nbformat": 4,
 "nbformat_minor": 2
}
